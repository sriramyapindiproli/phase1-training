{
 "cells": [
  {
   "cell_type": "code",
   "execution_count": 4,
   "id": "c44e08aa",
   "metadata": {},
   "outputs": [],
   "source": [
    "d={}\n",
    "d.update({13:'sriramya',\n",
    "         23:'saranya',\n",
    "         12:'rupa',\n",
    "         10:'harshi',\n",
    "         14:'kavya'})"
   ]
  },
  {
   "cell_type": "code",
   "execution_count": 5,
   "id": "a74bdd5e",
   "metadata": {},
   "outputs": [
    {
     "data": {
      "text/plain": [
       "{13: 'sriramya', 23: 'saranya', 12: 'rupa', 10: 'harshi', 14: 'kavya'}"
      ]
     },
     "execution_count": 5,
     "metadata": {},
     "output_type": "execute_result"
    }
   ],
   "source": [
    "d"
   ]
  },
  {
   "cell_type": "code",
   "execution_count": 6,
   "id": "43e22886",
   "metadata": {},
   "outputs": [
    {
     "name": "stdout",
     "output_type": "stream",
     "text": [
      "3\n",
      "1\n"
     ]
    }
   ],
   "source": [
    "l=[2,3,4,5]\n",
    "k=int(input())\n",
    "flag=0\n",
    "for i in range(len(l)):\n",
    "    if l[i]==k:\n",
    "        print(i)\n",
    "        flag=1\n",
    "        break\n",
    "if flag==0:\n",
    "    print('element not found')"
   ]
  },
  {
   "cell_type": "code",
   "execution_count": 7,
   "id": "29e9492c",
   "metadata": {},
   "outputs": [
    {
     "data": {
      "text/plain": [
       "[2, 6, 10, 14, 18, 22, 26, 30]"
      ]
     },
     "execution_count": 7,
     "metadata": {},
     "output_type": "execute_result"
    }
   ],
   "source": [
    "l=[x for x in range(2,34,4)]\n",
    "l"
   ]
  },
  {
   "cell_type": "code",
   "execution_count": 9,
   "id": "b0f07653",
   "metadata": {},
   "outputs": [
    {
     "name": "stdout",
     "output_type": "stream",
     "text": [
      "[0, 2, 4, 6, 8, 10, 12, 14, 16, 18, 20, 22, 24, 26, 28, 30, 32, 34, 36, 38, 40]\n"
     ]
    }
   ],
   "source": [
    "l=[num for num in range(0,42) if num%2==0]\n",
    "print(l)"
   ]
  },
  {
   "cell_type": "code",
   "execution_count": 10,
   "id": "64421d6e",
   "metadata": {},
   "outputs": [
    {
     "name": "stdout",
     "output_type": "stream",
     "text": [
      "6\n",
      "[\n",
      "7 6 5 4 3 2 ]\n"
     ]
    }
   ],
   "source": [
    "l=[2,3,4,5,6,7]\n",
    "n=len(l)\n",
    "print(n)\n",
    "for i in range(n-1,-1,-1):\n",
    "    if i==n-1:\n",
    "        print('[')\n",
    "    print(l[i],end=\" \")\n",
    "print(']')"
   ]
  },
  {
   "cell_type": "code",
   "execution_count": 12,
   "id": "e553b0b2",
   "metadata": {},
   "outputs": [
    {
     "data": {
      "text/plain": [
       "['1', '2', '3', '4', '5']"
      ]
     },
     "execution_count": 12,
     "metadata": {},
     "output_type": "execute_result"
    }
   ],
   "source": [
    "l='1:2:3:4:5'.split(':')\n",
    "l"
   ]
  },
  {
   "cell_type": "code",
   "execution_count": 15,
   "id": "10f625c5",
   "metadata": {},
   "outputs": [
    {
     "name": "stdout",
     "output_type": "stream",
     "text": [
      "1 2 3 4\n",
      "[1, 2, 3, 4]\n",
      "10 0\n"
     ]
    }
   ],
   "source": [
    "l=list(map(int,input().split()))\n",
    "print(l)\n",
    "p,n=0,0\n",
    "for i in range(len(l)):\n",
    "    if l[i]<0:\n",
    "        n=n+l[i]\n",
    "    elif l[i]>0:\n",
    "        p=p+l[i]\n",
    "print(p,n)"
   ]
  },
  {
   "cell_type": "code",
   "execution_count": 23,
   "id": "1b6d45a2",
   "metadata": {},
   "outputs": [
    {
     "name": "stdout",
     "output_type": "stream",
     "text": [
      "4\n"
     ]
    }
   ],
   "source": [
    "n=int(input())\n"
   ]
  },
  {
   "cell_type": "code",
   "execution_count": 28,
   "id": "ce0f25e2",
   "metadata": {},
   "outputs": [
    {
     "name": "stdout",
     "output_type": "stream",
     "text": [
      "1\n",
      "2\n",
      "3\n",
      "4\n",
      "i= 0\n",
      "j= 0\n",
      "<map object at 0x000001DA6A4CBC10>\n",
      "i= 0\n",
      "j= 1\n",
      "i= 0\n",
      "j= 2\n",
      "i= 0\n",
      "j= 3\n",
      "i= 1\n",
      "j= 0\n",
      "i= 1\n",
      "j= 1\n",
      "<map object at 0x000001DA6A5103D0>\n",
      "i= 1\n",
      "j= 2\n",
      "i= 1\n",
      "j= 3\n",
      "i= 2\n",
      "j= 0\n",
      "i= 2\n",
      "j= 1\n",
      "i= 2\n",
      "j= 2\n",
      "<map object at 0x000001DA6A510940>\n",
      "i= 2\n",
      "j= 3\n",
      "i= 3\n",
      "j= 0\n",
      "i= 3\n",
      "j= 1\n",
      "i= 3\n",
      "j= 2\n",
      "i= 3\n",
      "j= 3\n",
      "<map object at 0x000001DA6A5101C0>\n"
     ]
    }
   ],
   "source": [
    "arr=[map(int,input())for i in range(n)]\n",
    "i=0\n",
    "j=i+1\n",
    "\n",
    "for i in range(len(arr)):\n",
    "    for j in range(len(arr)):\n",
    "        print('i=',i)\n",
    "        print('j=',j)\n",
    "        if arr[i]==arr[j]:\n",
    "            print(arr[i])"
   ]
  }
 ],
 "metadata": {
  "kernelspec": {
   "display_name": "Python 3 (ipykernel)",
   "language": "python",
   "name": "python3"
  },
  "language_info": {
   "codemirror_mode": {
    "name": "ipython",
    "version": 3
   },
   "file_extension": ".py",
   "mimetype": "text/x-python",
   "name": "python",
   "nbconvert_exporter": "python",
   "pygments_lexer": "ipython3",
   "version": "3.9.7"
  }
 },
 "nbformat": 4,
 "nbformat_minor": 5
}
