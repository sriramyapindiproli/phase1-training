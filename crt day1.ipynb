{
 "cells": [
  {
   "cell_type": "code",
   "execution_count": 1,
   "id": "c3271e7e",
   "metadata": {},
   "outputs": [
    {
     "data": {
      "text/plain": [
       "str"
      ]
     },
     "execution_count": 1,
     "metadata": {},
     "output_type": "execute_result"
    }
   ],
   "source": [
    "a='''a\n",
    "b\n",
    "c'''\n",
    "type(a)"
   ]
  },
  {
   "cell_type": "code",
   "execution_count": 2,
   "id": "0159e1df",
   "metadata": {},
   "outputs": [
    {
     "data": {
      "text/plain": [
       "'a\\nb\\nc'"
      ]
     },
     "execution_count": 2,
     "metadata": {},
     "output_type": "execute_result"
    }
   ],
   "source": [
    "a"
   ]
  },
  {
   "cell_type": "code",
   "execution_count": 3,
   "id": "903aa17d",
   "metadata": {},
   "outputs": [
    {
     "data": {
      "text/plain": [
       "'used\\n     in\\n     documentation'"
      ]
     },
     "execution_count": 3,
     "metadata": {},
     "output_type": "execute_result"
    }
   ],
   "source": [
    "i=9\n",
    "a=10.0\n",
    "b='string'\n",
    "c=\"another string\"\n",
    "d='''used\n",
    "     in\n",
    "     documentation'''\n",
    "flag=True,False\n",
    "com=10j\n",
    "lst=[1,2,'a','string',[2,2j]]\n",
    "d"
   ]
  },
  {
   "cell_type": "code",
   "execution_count": 4,
   "id": "b37674d6",
   "metadata": {},
   "outputs": [
    {
     "data": {
      "text/plain": [
       "(1, 2, 3)"
      ]
     },
     "execution_count": 4,
     "metadata": {},
     "output_type": "execute_result"
    }
   ],
   "source": [
    "tup=(1,2,3)\n",
    "tup"
   ]
  },
  {
   "cell_type": "code",
   "execution_count": 5,
   "id": "445e6259",
   "metadata": {},
   "outputs": [
    {
     "data": {
      "text/plain": [
       "1"
      ]
     },
     "execution_count": 5,
     "metadata": {},
     "output_type": "execute_result"
    }
   ],
   "source": [
    "tup[0]"
   ]
  },
  {
   "cell_type": "code",
   "execution_count": 6,
   "id": "1a4608cd",
   "metadata": {},
   "outputs": [],
   "source": [
    "tup1=(1)"
   ]
  },
  {
   "cell_type": "code",
   "execution_count": 7,
   "id": "f7ef31dc",
   "metadata": {},
   "outputs": [
    {
     "data": {
      "text/plain": [
       "int"
      ]
     },
     "execution_count": 7,
     "metadata": {},
     "output_type": "execute_result"
    }
   ],
   "source": [
    "type(tup1)"
   ]
  },
  {
   "cell_type": "code",
   "execution_count": 8,
   "id": "cc2b50c8",
   "metadata": {},
   "outputs": [],
   "source": [
    "tup2=(1,)"
   ]
  },
  {
   "cell_type": "code",
   "execution_count": 9,
   "id": "f1e88484",
   "metadata": {},
   "outputs": [
    {
     "data": {
      "text/plain": [
       "list"
      ]
     },
     "execution_count": 9,
     "metadata": {},
     "output_type": "execute_result"
    }
   ],
   "source": [
    "lst1=[1]\n",
    "type(lst1)"
   ]
  },
  {
   "cell_type": "code",
   "execution_count": 11,
   "id": "a0912426",
   "metadata": {},
   "outputs": [
    {
     "data": {
      "text/plain": [
       "set"
      ]
     },
     "execution_count": 11,
     "metadata": {},
     "output_type": "execute_result"
    }
   ],
   "source": [
    "s={1,2,3,4,5,6,7,8,4,2,}\n",
    "type(s)"
   ]
  },
  {
   "cell_type": "code",
   "execution_count": 12,
   "id": "1b5bd026",
   "metadata": {},
   "outputs": [
    {
     "data": {
      "text/plain": [
       "{1, 2, 3, 4, 5, 6, 7, 8}"
      ]
     },
     "execution_count": 12,
     "metadata": {},
     "output_type": "execute_result"
    }
   ],
   "source": [
    "s"
   ]
  },
  {
   "cell_type": "code",
   "execution_count": 13,
   "id": "1c732083",
   "metadata": {},
   "outputs": [
    {
     "name": "stdout",
     "output_type": "stream",
     "text": [
      "<class 'set'>\n"
     ]
    }
   ],
   "source": [
    "print(type(s))"
   ]
  },
  {
   "cell_type": "code",
   "execution_count": 14,
   "id": "215099f0",
   "metadata": {},
   "outputs": [
    {
     "ename": "TypeError",
     "evalue": "unhashable type: 'list'",
     "output_type": "error",
     "traceback": [
      "\u001b[1;31m---------------------------------------------------------------------------\u001b[0m",
      "\u001b[1;31mTypeError\u001b[0m                                 Traceback (most recent call last)",
      "\u001b[1;32mC:\\Users\\SRIRAM~1\\AppData\\Local\\Temp/ipykernel_4980/765109381.py\u001b[0m in \u001b[0;36m<module>\u001b[1;34m\u001b[0m\n\u001b[1;32m----> 1\u001b[1;33m \u001b[0ms1\u001b[0m\u001b[1;33m=\u001b[0m\u001b[1;33m{\u001b[0m\u001b[1;33m[\u001b[0m\u001b[1;36m1\u001b[0m\u001b[1;33m,\u001b[0m\u001b[1;36m2\u001b[0m\u001b[1;33m,\u001b[0m\u001b[1;36m3\u001b[0m\u001b[1;33m]\u001b[0m\u001b[1;33m,\u001b[0m\u001b[1;33m[\u001b[0m\u001b[1;36m13\u001b[0m\u001b[1;33m,\u001b[0m\u001b[1;36m4\u001b[0m\u001b[1;33m,\u001b[0m\u001b[1;36m2\u001b[0m\u001b[1;33m]\u001b[0m\u001b[1;33m}\u001b[0m\u001b[1;33m\u001b[0m\u001b[1;33m\u001b[0m\u001b[0m\n\u001b[0m",
      "\u001b[1;31mTypeError\u001b[0m: unhashable type: 'list'"
     ]
    }
   ],
   "source": [
    "s1={[1,2,3],[13,4,2]}"
   ]
  },
  {
   "cell_type": "code",
   "execution_count": 16,
   "id": "68c58c3b",
   "metadata": {},
   "outputs": [
    {
     "ename": "TypeError",
     "evalue": "unhashable type: 'list'",
     "output_type": "error",
     "traceback": [
      "\u001b[1;31m---------------------------------------------------------------------------\u001b[0m",
      "\u001b[1;31mTypeError\u001b[0m                                 Traceback (most recent call last)",
      "\u001b[1;32mC:\\Users\\SRIRAM~1\\AppData\\Local\\Temp/ipykernel_4980/4174764014.py\u001b[0m in \u001b[0;36m<module>\u001b[1;34m\u001b[0m\n\u001b[1;32m----> 1\u001b[1;33m \u001b[0ms3\u001b[0m\u001b[1;33m=\u001b[0m\u001b[1;33m{\u001b[0m\u001b[1;33m[\u001b[0m\u001b[1;36m2\u001b[0m\u001b[1;33m,\u001b[0m\u001b[1;36m3\u001b[0m\u001b[1;33m,\u001b[0m\u001b[1;36m4\u001b[0m\u001b[1;33m]\u001b[0m\u001b[1;33m}\u001b[0m\u001b[1;33m\u001b[0m\u001b[1;33m\u001b[0m\u001b[0m\n\u001b[0m",
      "\u001b[1;31mTypeError\u001b[0m: unhashable type: 'list'"
     ]
    }
   ],
   "source": [
    "s3={[2,3,4]}"
   ]
  },
  {
   "cell_type": "code",
   "execution_count": 17,
   "id": "86598f4c",
   "metadata": {},
   "outputs": [],
   "source": [
    "s2={(1,2,3)}"
   ]
  },
  {
   "cell_type": "code",
   "execution_count": 20,
   "id": "976d7aa6",
   "metadata": {},
   "outputs": [
    {
     "name": "stdout",
     "output_type": "stream",
     "text": [
      "{(1, 2, 3)}\n"
     ]
    },
    {
     "ename": "NameError",
     "evalue": "name 's1' is not defined",
     "output_type": "error",
     "traceback": [
      "\u001b[1;31m---------------------------------------------------------------------------\u001b[0m",
      "\u001b[1;31mNameError\u001b[0m                                 Traceback (most recent call last)",
      "\u001b[1;32mC:\\Users\\SRIRAM~1\\AppData\\Local\\Temp/ipykernel_4980/4098828884.py\u001b[0m in \u001b[0;36m<module>\u001b[1;34m\u001b[0m\n\u001b[0;32m      1\u001b[0m \u001b[0mprint\u001b[0m\u001b[1;33m(\u001b[0m\u001b[0ms2\u001b[0m\u001b[1;33m)\u001b[0m\u001b[1;33m\u001b[0m\u001b[1;33m\u001b[0m\u001b[0m\n\u001b[1;32m----> 2\u001b[1;33m \u001b[0mtype\u001b[0m\u001b[1;33m(\u001b[0m\u001b[0ms1\u001b[0m\u001b[1;33m)\u001b[0m\u001b[1;33m\u001b[0m\u001b[1;33m\u001b[0m\u001b[0m\n\u001b[0m",
      "\u001b[1;31mNameError\u001b[0m: name 's1' is not defined"
     ]
    }
   ],
   "source": [
    "print(s2)\n",
    "type(s1)"
   ]
  },
  {
   "cell_type": "code",
   "execution_count": 19,
   "id": "4bfe4966",
   "metadata": {},
   "outputs": [
    {
     "name": "stdout",
     "output_type": "stream",
     "text": [
      "2.5 2\n"
     ]
    }
   ],
   "source": [
    "a=1+3\n",
    "b=10-9\n",
    "c=10*10\n",
    "d1=5/2\n",
    "d2=4//2\n",
    "print(d1,d2)"
   ]
  },
  {
   "cell_type": "code",
   "execution_count": 21,
   "id": "9b5ba291",
   "metadata": {},
   "outputs": [],
   "source": [
    "sum_of_numbers=1+3\n",
    "mul_of_numbers=3*4"
   ]
  },
  {
   "cell_type": "code",
   "execution_count": 22,
   "id": "2011f8b9",
   "metadata": {},
   "outputs": [
    {
     "name": "stdout",
     "output_type": "stream",
     "text": [
      "0\n"
     ]
    }
   ],
   "source": [
    "r=10%2\n",
    "print(r)"
   ]
  },
  {
   "cell_type": "code",
   "execution_count": 23,
   "id": "f3e33b29",
   "metadata": {},
   "outputs": [
    {
     "name": "stdout",
     "output_type": "stream",
     "text": [
      "0\n",
      "0\n",
      "0\n",
      "1\n"
     ]
    }
   ],
   "source": [
    "#logical operators\n",
    "print(0 and 0)\n",
    "print(0 and 1)\n",
    "print(0 or 0)\n",
    "print(1 or 0)"
   ]
  },
  {
   "cell_type": "code",
   "execution_count": null,
   "id": "a53bb432",
   "metadata": {},
   "outputs": [],
   "source": [
    "#binary representation\n",
    "print(23 and 5)"
   ]
  },
  {
   "cell_type": "code",
   "execution_count": 24,
   "id": "50224d70",
   "metadata": {},
   "outputs": [
    {
     "name": "stdout",
     "output_type": "stream",
     "text": [
      "42\n"
     ]
    }
   ],
   "source": [
    "print(32 and 42)"
   ]
  },
  {
   "cell_type": "code",
   "execution_count": 25,
   "id": "f30776e1",
   "metadata": {},
   "outputs": [
    {
     "name": "stdout",
     "output_type": "stream",
     "text": [
      "0b100000\n",
      "<class 'str'>\n"
     ]
    }
   ],
   "source": [
    "print(bin(32))\n",
    "print(type(bin(32)))"
   ]
  },
  {
   "cell_type": "code",
   "execution_count": 26,
   "id": "217676b1",
   "metadata": {},
   "outputs": [
    {
     "data": {
      "text/plain": [
       "'0b10111'"
      ]
     },
     "execution_count": 26,
     "metadata": {},
     "output_type": "execute_result"
    }
   ],
   "source": [
    "bin(23)\n",
    "bin(23)\n"
   ]
  },
  {
   "cell_type": "code",
   "execution_count": 27,
   "id": "17712d75",
   "metadata": {},
   "outputs": [
    {
     "name": "stdout",
     "output_type": "stream",
     "text": [
      "74\n",
      "31\n"
     ]
    }
   ],
   "source": [
    "print(74 or 31)\n",
    "print(31 or 74)"
   ]
  },
  {
   "cell_type": "code",
   "execution_count": 28,
   "id": "76fa97e2",
   "metadata": {},
   "outputs": [
    {
     "name": "stdout",
     "output_type": "stream",
     "text": [
      "-31\n",
      "31\n"
     ]
    }
   ],
   "source": [
    "print(74 and -31)\n",
    "print(-74 and 31)"
   ]
  },
  {
   "cell_type": "code",
   "execution_count": 29,
   "id": "157697fe",
   "metadata": {},
   "outputs": [
    {
     "name": "stdout",
     "output_type": "stream",
     "text": [
      "True\n"
     ]
    },
    {
     "data": {
      "text/plain": [
       "bool"
      ]
     },
     "execution_count": 29,
     "metadata": {},
     "output_type": "execute_result"
    }
   ],
   "source": [
    "print(31<74)\n",
    "type(31<74)"
   ]
  },
  {
   "cell_type": "code",
   "execution_count": 30,
   "id": "128b5e1e",
   "metadata": {},
   "outputs": [
    {
     "name": "stdout",
     "output_type": "stream",
     "text": [
      "True\n",
      "False\n"
     ]
    }
   ],
   "source": [
    "l=[2,3,4,5,6,3]\n",
    "print(5 in l)\n",
    "print(5 not in l)"
   ]
  },
  {
   "cell_type": "code",
   "execution_count": 31,
   "id": "e934e23b",
   "metadata": {},
   "outputs": [
    {
     "name": "stdout",
     "output_type": "stream",
     "text": [
      "False\n",
      "True\n"
     ]
    },
    {
     "name": "stderr",
     "output_type": "stream",
     "text": [
      "<>:3: SyntaxWarning: \"is\" with a literal. Did you mean \"==\"?\n",
      "<>:3: SyntaxWarning: \"is\" with a literal. Did you mean \"==\"?\n",
      "C:\\Users\\SRIRAM~1\\AppData\\Local\\Temp/ipykernel_4980/1377463230.py:3: SyntaxWarning: \"is\" with a literal. Did you mean \"==\"?\n",
      "  print(a is 1)\n"
     ]
    }
   ],
   "source": [
    "a=10\n",
    "b=None\n",
    "print(a is 1)\n",
    "print(b is None)"
   ]
  },
  {
   "cell_type": "code",
   "execution_count": 32,
   "id": "81fff64a",
   "metadata": {},
   "outputs": [],
   "source": [
    "lt=[]\n",
    "lt.append(1)\n",
    "lt.append(1.9)\n",
    "lt.append((1,2,3))\n",
    "lt.append([2,3,4])\n",
    "lt.append('string')"
   ]
  },
  {
   "cell_type": "code",
   "execution_count": 33,
   "id": "13f6e369",
   "metadata": {},
   "outputs": [
    {
     "data": {
      "text/plain": [
       "[1, 1.9, (1, 2, 3), [2, 3, 4], 'string']"
      ]
     },
     "execution_count": 33,
     "metadata": {},
     "output_type": "execute_result"
    }
   ],
   "source": [
    "lt"
   ]
  },
  {
   "cell_type": "code",
   "execution_count": 36,
   "id": "12cf63ab",
   "metadata": {},
   "outputs": [
    {
     "data": {
      "text/plain": [
       "4"
      ]
     },
     "execution_count": 36,
     "metadata": {},
     "output_type": "execute_result"
    }
   ],
   "source": [
    "len(lt)"
   ]
  },
  {
   "cell_type": "code",
   "execution_count": 37,
   "id": "139346cd",
   "metadata": {},
   "outputs": [
    {
     "data": {
      "text/plain": [
       "[1, 1.9, (1, 2, 3)]"
      ]
     },
     "execution_count": 37,
     "metadata": {},
     "output_type": "execute_result"
    }
   ],
   "source": [
    "lt.pop()\n",
    "lt"
   ]
  },
  {
   "cell_type": "code",
   "execution_count": 38,
   "id": "aefba265",
   "metadata": {},
   "outputs": [
    {
     "name": "stdout",
     "output_type": "stream",
     "text": [
      "[1.9, (1, 2, 3)]\n"
     ]
    }
   ],
   "source": [
    "lt.pop(0)\n",
    "print(lt)"
   ]
  },
  {
   "cell_type": "code",
   "execution_count": 39,
   "id": "8d654c02",
   "metadata": {},
   "outputs": [
    {
     "data": {
      "text/plain": [
       "[4, 5, 6, 6]"
      ]
     },
     "execution_count": 39,
     "metadata": {},
     "output_type": "execute_result"
    }
   ],
   "source": [
    "lt1=[2,4,5,6,6]\n",
    "lt1.remove(2)\n",
    "lt1"
   ]
  },
  {
   "cell_type": "code",
   "execution_count": 40,
   "id": "8c296298",
   "metadata": {},
   "outputs": [
    {
     "data": {
      "text/plain": [
       "[4, 3, 5, 6, 6]"
      ]
     },
     "execution_count": 40,
     "metadata": {},
     "output_type": "execute_result"
    }
   ],
   "source": [
    "lt1.insert(1,3)\n",
    "lt1"
   ]
  },
  {
   "cell_type": "code",
   "execution_count": 41,
   "id": "f57d9ff9",
   "metadata": {},
   "outputs": [
    {
     "data": {
      "text/plain": [
       "0"
      ]
     },
     "execution_count": 41,
     "metadata": {},
     "output_type": "execute_result"
    }
   ],
   "source": [
    "lt1.count(2)"
   ]
  },
  {
   "cell_type": "code",
   "execution_count": 42,
   "id": "636fbedf",
   "metadata": {},
   "outputs": [
    {
     "data": {
      "text/plain": [
       "[]"
      ]
     },
     "execution_count": 42,
     "metadata": {},
     "output_type": "execute_result"
    }
   ],
   "source": [
    "lt2=[]\n",
    "lt2.copy()\n",
    "lt2"
   ]
  },
  {
   "cell_type": "code",
   "execution_count": 43,
   "id": "d07cb6cd",
   "metadata": {},
   "outputs": [
    {
     "name": "stdout",
     "output_type": "stream",
     "text": [
      "[23, 42, 22]\n",
      "[100, 42, 22]\n",
      "[100, 42, 22]\n"
     ]
    }
   ],
   "source": [
    "x=[23,42,22]\n",
    "y=x\n",
    "print(y)\n",
    "y[0]=100\n",
    "print(x)\n",
    "print(y)"
   ]
  },
  {
   "cell_type": "code",
   "execution_count": 44,
   "id": "79939802",
   "metadata": {},
   "outputs": [
    {
     "name": "stdout",
     "output_type": "stream",
     "text": [
      "[2, 3, 4]\n",
      "[100, 3, 4]\n"
     ]
    }
   ],
   "source": [
    "x=[2,3,4]\n",
    "y=x.copy()\n",
    "y[0]=100\n",
    "print(x)\n",
    "print(y)"
   ]
  },
  {
   "cell_type": "code",
   "execution_count": 45,
   "id": "ef233120",
   "metadata": {},
   "outputs": [
    {
     "name": "stdout",
     "output_type": "stream",
     "text": [
      "z= [1, 2, 2, 4]\n",
      "w= [2, 2, 4, 1]\n"
     ]
    }
   ],
   "source": [
    "w=[2,2,4,1]\n",
    "z=sorted(w)\n",
    "print(\"z=\",z)\n",
    "print(\"w=\",w)"
   ]
  },
  {
   "cell_type": "code",
   "execution_count": 46,
   "id": "e024f404",
   "metadata": {},
   "outputs": [
    {
     "name": "stdout",
     "output_type": "stream",
     "text": [
      "z= [3, 2, 1]\n",
      "w= [3, 1, 2]\n"
     ]
    }
   ],
   "source": [
    "w=[3,1,2]\n",
    "z=sorted(w,reverse=True)\n",
    "print(\"z=\",z)\n",
    "print(\"w=\",w)"
   ]
  },
  {
   "cell_type": "code",
   "execution_count": 47,
   "id": "9ef542bf",
   "metadata": {},
   "outputs": [
    {
     "name": "stdout",
     "output_type": "stream",
     "text": [
      "3\n"
     ]
    }
   ],
   "source": [
    "a=int('1')\n",
    "b=2\n",
    "print(a+b)\n"
   ]
  },
  {
   "cell_type": "code",
   "execution_count": 48,
   "id": "dc150572",
   "metadata": {},
   "outputs": [
    {
     "name": "stdout",
     "output_type": "stream",
     "text": [
      "bhagi isyears old\n",
      "bhagi is100years old\n"
     ]
    }
   ],
   "source": [
    "a=\"bhagi is\"\n",
    "b=str(100)\n",
    "c='years old'\n",
    "res=a+c\n",
    "res1=a+b+c\n",
    "print(res)\n",
    "print(res1)"
   ]
  },
  {
   "cell_type": "code",
   "execution_count": 49,
   "id": "e1a52d53",
   "metadata": {},
   "outputs": [
    {
     "name": "stdout",
     "output_type": "stream",
     "text": [
      "['1', '2', '3', '4', '5']\n"
     ]
    }
   ],
   "source": [
    "a=list('12345')\n",
    "print(a)"
   ]
  },
  {
   "cell_type": "markdown",
   "id": "a507bbe3",
   "metadata": {},
   "source": [
    "### "
   ]
  },
  {
   "cell_type": "code",
   "execution_count": 50,
   "id": "30b87738",
   "metadata": {},
   "outputs": [
    {
     "name": "stdout",
     "output_type": "stream",
     "text": [
      "<map object at 0x000001A3F87F8130>\n"
     ]
    }
   ],
   "source": [
    "b=map(int,a)\n",
    "print(b)"
   ]
  },
  {
   "cell_type": "code",
   "execution_count": null,
   "id": "bf34a6db",
   "metadata": {},
   "outputs": [],
   "source": []
  },
  {
   "cell_type": "code",
   "execution_count": null,
   "id": "1d2c8a2e",
   "metadata": {},
   "outputs": [],
   "source": []
  }
 ],
 "metadata": {
  "kernelspec": {
   "display_name": "Python 3 (ipykernel)",
   "language": "python",
   "name": "python3"
  },
  "language_info": {
   "codemirror_mode": {
    "name": "ipython",
    "version": 3
   },
   "file_extension": ".py",
   "mimetype": "text/x-python",
   "name": "python",
   "nbconvert_exporter": "python",
   "pygments_lexer": "ipython3",
   "version": "3.9.7"
  }
 },
 "nbformat": 4,
 "nbformat_minor": 5
}
