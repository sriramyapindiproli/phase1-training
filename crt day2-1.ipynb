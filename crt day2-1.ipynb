{
 "cells": [
  {
   "cell_type": "code",
   "execution_count": 5,
   "id": "9f111e14",
   "metadata": {},
   "outputs": [
    {
     "name": "stdout",
     "output_type": "stream",
     "text": [
      "{1, 2, 3, 4, 5} {2, 3} {1}\n"
     ]
    }
   ],
   "source": [
    "s1={1,2,3}\n",
    "s2={2,3,4,5}\n",
    "res=s1.union(s2)\n",
    "res1=s1.intersection(s2)\n",
    "res2=s1.difference(s2)\n",
    "print(res,res1,res2)"
   ]
  },
  {
   "cell_type": "code",
   "execution_count": 11,
   "id": "86f5b46f",
   "metadata": {},
   "outputs": [
    {
     "name": "stdout",
     "output_type": "stream",
     "text": [
      "1 2 3 4\n",
      "even\n"
     ]
    }
   ],
   "source": [
    "a,b,c,d=map(int,input().split())\n",
    "if a%x==0 or b%2==0 or c%2==0 or d%2==0:\n",
    "    print('even')\n",
    "else:\n",
    "    print(\"odd\")"
   ]
  },
  {
   "cell_type": "code",
   "execution_count": 7,
   "id": "37f60997",
   "metadata": {},
   "outputs": [
    {
     "name": "stdout",
     "output_type": "stream",
     "text": [
      "5\n",
      "oddd\n"
     ]
    }
   ],
   "source": [
    "x=int(input())\n",
    "print(\"even\") if x%2==0 else print(\"oddd\")"
   ]
  },
  {
   "cell_type": "code",
   "execution_count": 8,
   "id": "2ff33fa1",
   "metadata": {},
   "outputs": [
    {
     "name": "stdout",
     "output_type": "stream",
     "text": [
      "6\n",
      "fri\n"
     ]
    }
   ],
   "source": [
    "day=int(input())\n",
    "if day==1:\n",
    "    print('sun')\n",
    "elif day==2:\n",
    "    print('mon')\n",
    "elif day==3:\n",
    "    print('tue')\n",
    "elif day==4:\n",
    "    print('wed')\n",
    "elif day==5:\n",
    "    print('thu')\n",
    "elif day==6:\n",
    "    print('fri')\n",
    "elif day==7:\n",
    "    print('sat')"
   ]
  },
  {
   "cell_type": "code",
   "execution_count": 9,
   "id": "76d06dde",
   "metadata": {},
   "outputs": [
    {
     "name": "stdout",
     "output_type": "stream",
     "text": [
      "32\n",
      "weird\n"
     ]
    }
   ],
   "source": [
    "n=int(input())\n",
    "if n>0 and n<20:\n",
    "    if n%2==0:\n",
    "        print('weird')\n",
    "    else:\n",
    "        print('normal')\n",
    "elif n>=20 and n<=30:\n",
    "    print('normal')\n",
    "else:\n",
    "    if n%2!=0:\n",
    "        print('normal')\n",
    "    else:\n",
    "        print('weird')"
   ]
  },
  {
   "cell_type": "code",
   "execution_count": null,
   "id": "e95c8f9c",
   "metadata": {},
   "outputs": [],
   "source": []
  }
 ],
 "metadata": {
  "kernelspec": {
   "display_name": "Python 3 (ipykernel)",
   "language": "python",
   "name": "python3"
  },
  "language_info": {
   "codemirror_mode": {
    "name": "ipython",
    "version": 3
   },
   "file_extension": ".py",
   "mimetype": "text/x-python",
   "name": "python",
   "nbconvert_exporter": "python",
   "pygments_lexer": "ipython3",
   "version": "3.9.7"
  }
 },
 "nbformat": 4,
 "nbformat_minor": 5
}
